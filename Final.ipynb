{
 "cells": [
  {
   "cell_type": "markdown",
   "id": "1334d1a2-de5c-421a-90f3-2c9c77e8da20",
   "metadata": {},
   "source": [
    "### Final Project. Due Friday, Dec 15 by midnight.\n",
    "\n",
    "---\n",
    "\n",
    "Several of the questions build on each other. It might be beneficial to write some views for those so you don't end up duplicating the same CTEs/subqueries.\n",
    "\n",
    "Thanks for a great semester!\n",
    "\n",
    "---"
   ]
  },
  {
   "cell_type": "code",
   "execution_count": null,
   "id": "d1836d88-d6b6-485a-9414-f1fbc35508f2",
   "metadata": {
    "tags": []
   },
   "outputs": [],
   "source": []
  },
  {
   "cell_type": "markdown",
   "id": "5a3970d4-c3b8-4a12-8547-ac780bcf8949",
   "metadata": {},
   "source": [
    "---\n",
    "1) Generate a summary, by month and year of how our store is performing.\n",
    "\n",
    "Have your query return the following:\n",
    " - year_month (as a single column, like YYYY-MM)\n",
    " - Sales: total sales for the month (i.e., sum of qty * unit price)\n",
    " - NumOrders: number of orders placed for the month\n",
    " - NumCust: number of _distinct_ customers who made a purchase (i.e. only count the customer at most once per month)\n",
    " - OrdersPerCust: average number of orders per customer (i.e. NumOrders/NumCust)\n",
    " - SalesPerCust: average sales per customer (i.e. Sales/NumCust)\n",
    " - SalesPerOrder: average sales per order (i.e. Sales/NumOrders)\n",
    "\n",
    "Sort the results should by year_month, in ascending order.\n",
    "\n",
    "_Hint: Watch out for integer division!_"
   ]
  },
  {
   "cell_type": "code",
   "execution_count": null,
   "id": "07a20ba5-92ab-4415-b5eb-9296e566d750",
   "metadata": {
    "tags": []
   },
   "outputs": [],
   "source": []
  },
  {
   "cell_type": "markdown",
   "id": "212acca8-cbeb-4f60-bead-e2cf544cc36f",
   "metadata": {},
   "source": [
    "---\n",
    "2) In which month did we have the lowest total sales?\n",
    "\n",
    "Return one record with:\n",
    "- year_month (as a single column, like YYYY-MM)\n",
    "- sales (sum of qty * unit_price)"
   ]
  },
  {
   "cell_type": "code",
   "execution_count": null,
   "id": "b0d0bff9-0581-43aa-9fb9-4573d626207f",
   "metadata": {
    "tags": []
   },
   "outputs": [],
   "source": []
  },
  {
   "cell_type": "markdown",
   "id": "85321a20-c785-4163-8a5f-81e6d903ee25",
   "metadata": {},
   "source": [
    "---\n",
    "\n",
    "3. In the month determined from the previous question, generate a list of our total sales by state. Make sure that all states are included, even if they have no sales (50 states + PR and DC = 52 total records). For states having 0 sales, return 0, not NULL or NaN.\n",
    "\n",
    "Return:\n",
    "\n",
    "- state_id\n",
    "- Total sales for the month in question\n",
    "\n",
    "Order the results by the state_id, ascending"
   ]
  },
  {
   "cell_type": "code",
   "execution_count": null,
   "id": "390db9a4-db59-440b-abe9-9633b0b4bce6",
   "metadata": {
    "tags": []
   },
   "outputs": [],
   "source": []
  },
  {
   "cell_type": "markdown",
   "id": "9f6fb11c-24a5-4015-b8c7-92e0e94cb495",
   "metadata": {},
   "source": [
    "---\n",
    "\n",
    "4. For the list of states above that had 0 sales, generate a list of all the customers in those states, along with how much they have bought from us since then.\n",
    "\n",
    "Return:\n",
    "- cust_id\n",
    "- first\n",
    "- last\n",
    "- addr\n",
    "- city\n",
    "- st\n",
    "- zip\n",
    "- the customer's total sales from all months after the month from question 4\n",
    "\n",
    "Order the results by cust_id, ascending"
   ]
  },
  {
   "cell_type": "code",
   "execution_count": null,
   "id": "26b20311-4ffe-44e6-a598-e692b364ef62",
   "metadata": {
    "tags": []
   },
   "outputs": [],
   "source": []
  },
  {
   "cell_type": "markdown",
   "id": "bb87300d-d6d3-4272-aedd-f85c48807f45",
   "metadata": {},
   "source": [
    "---\n",
    "\n",
    "5) Get a list of customers who did not purchase anything in the most recent month of data, along with their average sales for all months prior.\n",
    "\n",
    "Return:\n",
    "\n",
    "- customer id\n",
    "- name, address, zip, city, st (abbreviation is fine)\n",
    "- average sales for all months prior (divide by N-1, where N is the total number of months in the database)\n",
    "\n",
    "Order the results with the largest average monthly sales on top."
   ]
  },
  {
   "cell_type": "code",
   "execution_count": null,
   "id": "6a313e23-500a-47cb-a403-549c93c7cbc6",
   "metadata": {
    "tags": []
   },
   "outputs": [],
   "source": []
  },
  {
   "cell_type": "markdown",
   "id": "25a952d1-6687-47e2-b3ea-e43051ab5630",
   "metadata": {},
   "source": [
    "---\n",
    "6) Are there any products we haven't sold at least 1 of each month?\n",
    "\n",
    "If so, return:\n",
    " \n",
    "- prod_id\n",
    "- prod_desc\n",
    "- unit_price\n",
    "- year_month\n",
    "\n",
    "Order the results by prod_id, year_month, both ascending"
   ]
  },
  {
   "cell_type": "code",
   "execution_count": null,
   "id": "d30460af-c524-4836-b352-18b656271993",
   "metadata": {
    "tags": []
   },
   "outputs": [],
   "source": []
  },
  {
   "cell_type": "markdown",
   "id": "a41e4a52-1d08-48b7-a9e0-154f03c5a892",
   "metadata": {},
   "source": [
    "---\n",
    "7) What are our top 5 selling products (in terms of total dollars sold)?\n",
    "\n",
    "Return:\n",
    "\n",
    "- prod_id\n",
    "- prod_desc\n",
    "- unit_price\n",
    "- total sales (i.e. sum of qty * unit price)\n",
    "\n",
    "Order the results by total sales, descending"
   ]
  },
  {
   "cell_type": "code",
   "execution_count": null,
   "id": "2e3c5da0-c69f-4c80-8d67-23ed2c0c6cbb",
   "metadata": {
    "tags": []
   },
   "outputs": [],
   "source": []
  },
  {
   "cell_type": "markdown",
   "id": "b78bd07a-4fd2-497f-9128-7b412af46c5e",
   "metadata": {},
   "source": [
    "---\n",
    "\n",
    "8) What month did we have our highest sales, and what was our top selling product that month? (All in terms of dollars).\n",
    "\n",
    "Return:\n",
    "\n",
    "- year_month\n",
    "- prod_id\n",
    "- prod_desc\n",
    "- The total sales for that month, for all products\n",
    "- The total sales for that month, for the top selling product only\n",
    "- The total quantity for that month, for the top selling product only"
   ]
  },
  {
   "cell_type": "code",
   "execution_count": null,
   "id": "5ad6503d-42b9-4444-be55-817e9cc65da2",
   "metadata": {
    "tags": []
   },
   "outputs": [],
   "source": []
  }
 ],
 "metadata": {
  "kernelspec": {
   "display_name": "Python 3 (ipykernel)",
   "language": "python",
   "name": "python3"
  },
  "language_info": {
   "codemirror_mode": {
    "name": "ipython",
    "version": 3
   },
   "file_extension": ".py",
   "mimetype": "text/x-python",
   "name": "python",
   "nbconvert_exporter": "python",
   "pygments_lexer": "ipython3",
   "version": "3.11.6"
  }
 },
 "nbformat": 4,
 "nbformat_minor": 5
}
